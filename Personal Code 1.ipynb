{
 "cells": [
  {
   "cell_type": "markdown",
   "metadata": {},
   "source": [
    "# Assignment on Programming Techniques for Big Data\n",
    "\n",
    "Functional programming is the basis of most modern Big Data processing systems.\n",
    "Before going forward to the course, it is important to master data processing\n",
    "techniques using a functional programming style. In this assignment, your task \n",
    "is to train yourselves in thinking in a functional way when processing data. \n",
    "\n",
    "Many of the the tasks below are easy, but some are not and require many\n",
    "iterations (and extensive testing!) to get right. For some of them, you\n",
    "can find ready-made solutions on the internet. Even though it may be tempting,\n",
    "I advise you against copying and pasting them here, as you will regret it\n",
    "later on in the course.\n",
    "\n",
    "\n",
    "This assignment has a total of *115* points. Your grade is calculated with `min(points/10, 10)`, i.e. you only need 100 points for a 10. A few notes:\n",
    "\n",
    "* For each function you define, you also need to define at least one working example.\n",
    "* Do not change the given function signatures.\n",
    "* Use functional programming for every question (besides the first section)."
   ]
  },
  {
   "cell_type": "markdown",
   "metadata": {},
   "source": [
    "## Foundations of functional programming\n",
    "\n",
    "In this part you will implement core functions that are vital to functional programming."
   ]
  },
  {
   "cell_type": "markdown",
   "metadata": {},
   "source": [
    "**T** (5pts): Implement `map` using iteration for lists/arrays"
   ]
  },
  {
   "cell_type": "code",
   "execution_count": 1,
   "metadata": {},
   "outputs": [
    {
     "data": {
      "text/plain": [
       "[0, 2, 4, 6, 8, 10, 12]"
      ]
     },
     "execution_count": 1,
     "metadata": {},
     "output_type": "execute_result"
    }
   ],
   "source": [
    "def map(func, xs):\n",
    "    x = []\n",
    "    for item in xs:\n",
    "        item = func(item)\n",
    "        x.append(item)\n",
    "    return x\n",
    "\n",
    "map(lambda x: x*2, range(7))"
   ]
  },
  {
   "cell_type": "markdown",
   "metadata": {},
   "source": [
    "**T** (5pts): Implement `filter` using iteration for lists/arrays"
   ]
  },
  {
   "cell_type": "code",
   "execution_count": 2,
   "metadata": {},
   "outputs": [
    {
     "data": {
      "text/plain": [
       "[0, 2, 4, 6]"
      ]
     },
     "execution_count": 2,
     "metadata": {},
     "output_type": "execute_result"
    }
   ],
   "source": [
    "def filter(func, xs):\n",
    "    x = []\n",
    "    for item in xs:\n",
    "        if func(item):\n",
    "            x.append(item)\n",
    "    return x\n",
    "        \n",
    "\n",
    "filter(lambda x: x % 2 == 0, range(7))"
   ]
  },
  {
   "cell_type": "markdown",
   "metadata": {},
   "source": [
    "**T** (5pts): Implement `reduceR` using iteration for lists/arrays"
   ]
  },
  {
   "cell_type": "code",
   "execution_count": 3,
   "metadata": {},
   "outputs": [
    {
     "data": {
      "text/plain": [
       "3"
      ]
     },
     "execution_count": 3,
     "metadata": {},
     "output_type": "execute_result"
    }
   ],
   "source": [
    "def reduceR(func, xs, init):    \n",
    "    res = init\n",
    "    for x in xs[::-1]:\n",
    "        #print(\" x: \", x, \" y: \" , res , \"  x-y: \", x-res)\n",
    "        res = func(x, res) \n",
    "        \n",
    "\n",
    "    return res\n",
    "\n",
    "\n",
    "\n",
    "reduceR(lambda x, y: x-y, range(7), 0)"
   ]
  },
  {
   "cell_type": "markdown",
   "metadata": {},
   "source": [
    "**T** (5pts): Implement a function `flatten(xs: [[A]]): [A]` that converts a list of \n",
    "lists into a list formed by the elements of these lists. For example:\n",
    "\n",
    "```python\n",
    ">>> a = [[1,2],[2,3],[3,[4]]]\n",
    ">>> flatten(a)\n",
    "[1,2,2,3,3,[4]]\n",
    "```"
   ]
  },
  {
   "cell_type": "code",
   "execution_count": 4,
   "metadata": {},
   "outputs": [
    {
     "data": {
      "text/plain": [
       "[1, 2, 3, 4, 5, 7, [8, 9]]"
      ]
     },
     "execution_count": 4,
     "metadata": {},
     "output_type": "execute_result"
    }
   ],
   "source": [
    "def flatten(xss):\n",
    "    \n",
    "    x = []\n",
    "    for i in xss:\n",
    "        for j in i :\n",
    "            x.append(j)\n",
    "    return x\n",
    "\n",
    "flatten([[1,2,3],[4,5], [7,[8,9]]])"
   ]
  },
  {
   "cell_type": "markdown",
   "metadata": {},
   "source": [
    "## More basic functions\n",
    "\n",
    "In every implementation from now (also in next steps)on you should reuse at least one of your answers to an earlier question."
   ]
  },
  {
   "cell_type": "markdown",
   "metadata": {},
   "source": [
    "**T** (5pts): Implement `reduceL` by reusing `reduceR`"
   ]
  },
  {
   "cell_type": "code",
   "execution_count": 5,
   "metadata": {},
   "outputs": [
    {
     "data": {
      "text/plain": [
       "-21"
      ]
     },
     "execution_count": 5,
     "metadata": {},
     "output_type": "execute_result"
    }
   ],
   "source": [
    "def reduceL(func, xs, init):\n",
    "    return reduceR(lambda x,y: func(y,x), xs[::-1], init)\n",
    "\n",
    "\n",
    "reduceL(lambda x, y: x-y, range(7), 0)"
   ]
  },
  {
   "cell_type": "markdown",
   "metadata": {},
   "source": [
    "**T** (10pts): Implement `group_by` by reusing `reduceL`."
   ]
  },
  {
   "cell_type": "code",
   "execution_count": 35,
   "metadata": {},
   "outputs": [
    {
     "data": {
      "text/plain": [
       "{'even': [0, 2, 4, 6, 8], 'odd': [1, 3, 5, 7, 9]}"
      ]
     },
     "execution_count": 35,
     "metadata": {},
     "output_type": "execute_result"
    }
   ],
   "source": [
    "def group_by(classifier, xs):\n",
    "    \n",
    "    def myFunc(classifier, res, myInput):\n",
    "        group = classifier(myInput)\n",
    "\n",
    "        if group in res.keys():\n",
    "            res[group].append(myInput)\n",
    "        else:\n",
    "            res[group] = [myInput]\n",
    "        return res\n",
    "    \n",
    "    init = dict()\n",
    "    groups = reduceL(lambda x,y: myFunc(classifier, x, y), xs, init)\n",
    "    return groups\n",
    "    \n",
    "group_by(lambda x: \"even\" if x % 2 == 0 else \"odd\", range(10))"
   ]
  },
  {
   "cell_type": "markdown",
   "metadata": {},
   "source": [
    "## Simple data processing\n",
    "\n"
   ]
  },
  {
   "cell_type": "markdown",
   "metadata": {},
   "source": [
    "**T** (5pts): Implement `distinct` using `reduceL`. Also provide its function signature."
   ]
  },
  {
   "cell_type": "code",
   "execution_count": 7,
   "metadata": {},
   "outputs": [
    {
     "data": {
      "text/plain": [
       "[1, 2, 3, 4, 5, 6]"
      ]
     },
     "execution_count": 7,
     "metadata": {},
     "output_type": "execute_result"
    }
   ],
   "source": [
    "# distinct(xs:[A]): [A]\n",
    "def distinct(xs):\n",
    "    return reduceL(lambda ys, y: ys if y in ys else ys + [y], xs, [])\n",
    "\n",
    "a = [1,2,3,1,2,3,4,5,6,5,4,3,2,1]\n",
    "distinct(a)"
   ]
  },
  {
   "cell_type": "markdown",
   "metadata": {},
   "source": [
    "**T** (5pts): Implement `flatmap` and provide its function signature."
   ]
  },
  {
   "cell_type": "code",
   "execution_count": 8,
   "metadata": {
    "scrolled": true
   },
   "outputs": [
    {
     "data": {
      "text/plain": [
       "[0, 0, 1, 0, 1, 2, 0, 1, 2, 3]"
      ]
     },
     "execution_count": 8,
     "metadata": {},
     "output_type": "execute_result"
    }
   ],
   "source": [
    "# flatmap(func: A -> [B], [A]): [B]\n",
    "def flatmap(func, xs):\n",
    "    x = []\n",
    "    for item in xs:\n",
    "        x.append(func(item))\n",
    "    return flatten(x)\n",
    "\n",
    "flatmap(lambda x: list(range(x)), range(5))"
   ]
  },
  {
   "cell_type": "markdown",
   "metadata": {},
   "source": [
    "**T** (5pts): Implement `max(xs: [Integer]): Integer` that finds the largest value in `xs`. You can assume the list is non-empty."
   ]
  },
  {
   "cell_type": "code",
   "execution_count": 9,
   "metadata": {},
   "outputs": [
    {
     "data": {
      "text/plain": [
       "59"
      ]
     },
     "execution_count": 9,
     "metadata": {},
     "output_type": "execute_result"
    }
   ],
   "source": [
    "def max(xs):\n",
    "    maxElement = xs[0]\n",
    "    for item in xs:\n",
    "        if item > maxElement:\n",
    "            maxElement = item\n",
    "    return maxElement\n",
    "\n",
    "max([1,59,42,27,38])"
   ]
  },
  {
   "cell_type": "markdown",
   "metadata": {},
   "source": [
    "## Higher-order functions\n",
    "\n",
    "\n",
    "**T** (10pts): Implement a function called `drop_while(f: A -> Boolean, xs: [A]) : [A]` \n",
    "that drops the longest prefix of elements from `xs` that satisfy `f`.\n",
    "\n",
    "```python\n",
    ">>> a = [1,2,3,4,5,6]\n",
    ">>> dropWhile(lambda x: x <= 3, a)\n",
    "[4,5,6]\n",
    "```"
   ]
  },
  {
   "cell_type": "code",
   "execution_count": 10,
   "metadata": {},
   "outputs": [
    {
     "data": {
      "text/plain": [
       "[5, 3, 1, 4, 1, 5, 6]"
      ]
     },
     "execution_count": 10,
     "metadata": {},
     "output_type": "execute_result"
    }
   ],
   "source": [
    "def drop_while(func, xs):\n",
    "    index = 0\n",
    "    for i in range(0, len(xs)):\n",
    "        #print(func(xs[i]))\n",
    "        if func(xs[i]) == 0:\n",
    "            index = i\n",
    "            break\n",
    "    return xs[index : ]\n",
    "            \n",
    "\n",
    "drop_while(lambda x: x <= 3, [1,2,1,3,5,3,1,4,1,5,6])"
   ]
  },
  {
   "cell_type": "markdown",
   "metadata": {},
   "source": [
    "**T** (10pts): Implement a function `zip(xs: [A], ys: [B]): List[(A,B)]` that returns a list formed from this list and another list by combining the corresponding elements in pairs. If one of the two lists is longer \n",
    "than the other, its remaining elements are ignored. \n",
    "\n",
    "```python\n",
    ">>> a = [1,2,3,4]\n",
    ">>> b = [a,b,c,d,e]\n",
    ">>> zip(a,b)\n",
    "[(1, 'a'), (2, 'b'), (3, 'c'), (4,'d')]\n",
    "```"
   ]
  },
  {
   "cell_type": "code",
   "execution_count": 11,
   "metadata": {
    "scrolled": true
   },
   "outputs": [
    {
     "data": {
      "text/plain": [
       "[[2, 'a'], [3, 'b'], [4, 'c']]"
      ]
     },
     "execution_count": 11,
     "metadata": {},
     "output_type": "execute_result"
    }
   ],
   "source": [
    "def zip(xs, ys):\n",
    "    x = []\n",
    "    if len(xs) > len(ys):\n",
    "        for i in range(0, len(ys)):\n",
    "            x.append([xs[i],ys[i]])\n",
    "    else:\n",
    "        for i in range(0, len(xs)):\n",
    "            x.append([xs[i],ys[i]])\n",
    "    return x\n",
    "            \n",
    "    \n",
    "a = [2,3,4]\n",
    "b = ['a','b','c','d']\n",
    "zip(a,b)"
   ]
  },
  {
   "cell_type": "markdown",
   "metadata": {},
   "source": [
    "**T** (10pts): Implement a function \n",
    "`scanL(f: (acc: B, x: A) -> B, xs: [A], init: B) -> [B]`\n",
    "that works like `reduceL` but instead of producing one final result, it also\n",
    "returns all the intermediate results.\n",
    "\n",
    "```python\n",
    ">>> a = [2,3,4]\n",
    ">>> scanL(a, 0, lambda x, y: x + y)\n",
    "[0, 2, 5, 9]\n",
    "```"
   ]
  },
  {
   "cell_type": "code",
   "execution_count": 12,
   "metadata": {},
   "outputs": [
    {
     "data": {
      "text/plain": [
       "[0, 2, 5, 9]"
      ]
     },
     "execution_count": 12,
     "metadata": {},
     "output_type": "execute_result"
    }
   ],
   "source": [
    "def scanL(func, xs, init):\n",
    "    x = [init]\n",
    "    for item in xs:\n",
    "        init = func(item, init)\n",
    "        x.append(init)\n",
    "    return x\n",
    "    \n",
    "scanL(lambda x, y: x + y, [2,3,4], 0)"
   ]
  },
  {
   "cell_type": "markdown",
   "metadata": {},
   "source": [
    "## Real life application\n",
    "\n",
    "In the following questions you will solve realistic problems with the techniques you learned in this assignment. You will be working with data of San Francisco Library patrons. You can find the data file on Brightspace. Below you can find what each field means.\n",
    "\n",
    "* Id: Id of patron\n",
    "* Patron Type Definition: Description of patron (adult, teen, child, senior, etc.).\n",
    "* Total Checkouts: Total number of items the patron has checked out from the library since the record was created.\n",
    "* Total Renewals: Total number of times the patron has renewed checked-out items.\n",
    "* Age Range: Age ranges: 0 to 9 years, 10 to 19 years, 20 to 24 years, 25 to 34 years, 35 to 44 years, 45 to 54 years, 55 to 59 years, 60 to 64 years 65 to 74 years, 75 years and over. Some blank.\n",
    "* Home Library Definition: Description of the branch library where the patron was originally registered.\n",
    "* Circulation Active Month: Month the patron last checked out library materials, or last logged into the library’s subscription databases from a computer outside the library.\n",
    "* Circulation Active Year: Year the patron last checked out library materials, or last logged into the library’s subscription databases from a computer outside the library.\n",
    "* Notice Preference Definition: Description of the patron’s preferred method of receiving library notices.\n",
    "* Provided Email Address: Indicates whether the patron provided an email address.\n",
    "* Year Patron Registered: Year patron registered with library system. No dates prior to 2003 due to system migration.\n",
    "* Outside of County: If a patron's home address is not in San Francisco, then flagged as true, otherwise false.\n",
    "* Supervisor District: Based on patron address: San Francisco Supervisor District. Note: This is an automated field, please note that if \"Outside of County\" is true, then there will be no supervisor district. Also, if the input address was not well-formed, the supervisor district will be blank.\n",
    "\n",
    "Solve the following questions using functions you implemented earlier. The code for reading the file is already given. Hint: for testing purposes it could be beneficial to only use a small part of the dataset."
   ]
  },
  {
   "cell_type": "code",
   "execution_count": 13,
   "metadata": {},
   "outputs": [],
   "source": [
    "# This snippet imports the csv file to a list of dicts\n",
    "\n",
    "import csv\n",
    "file = 'Library_Usage.csv' # Change this filepath to the location of your file if necessary\n",
    "patrons = []\n",
    "try: \n",
    "    with open(file) as fh:\n",
    "        rd = csv.DictReader(fh, delimiter=',') \n",
    "        for row in rd:\n",
    "            patrons.append(row)\n",
    "        \n",
    "except FileNotFoundError as e:\n",
    "    print(e)"
   ]
  },
  {
   "cell_type": "markdown",
   "metadata": {},
   "source": [
    "**T** (10pts) Some patrons have indicated that they want to receive notices via email, but have not provided their email address. Implement a function that outputs a list of the IDs of these patrons."
   ]
  },
  {
   "cell_type": "code",
   "execution_count": 14,
   "metadata": {},
   "outputs": [],
   "source": [
    "for i in range(1, len(patrons) - 1):\n",
    "    patrons[i]['Id'] = i\n",
    "    #print(patrons[i])"
   ]
  },
  {
   "cell_type": "code",
   "execution_count": 39,
   "metadata": {},
   "outputs": [
    {
     "data": {
      "text/plain": [
       "[12435,\n",
       " 25782,\n",
       " 28352,\n",
       " 37190,\n",
       " 41625,\n",
       " 45189,\n",
       " 48111,\n",
       " 65242,\n",
       " 69991,\n",
       " 70333,\n",
       " 81014,\n",
       " 83410,\n",
       " 99258,\n",
       " 100349,\n",
       " 108612,\n",
       " 109214,\n",
       " 115283,\n",
       " 115791,\n",
       " 126720,\n",
       " 130064,\n",
       " 135779,\n",
       " 160879,\n",
       " 161852,\n",
       " 172503,\n",
       " 174177,\n",
       " 180686,\n",
       " 194003,\n",
       " 195044,\n",
       " 203752,\n",
       " 205290,\n",
       " 209601,\n",
       " 217393,\n",
       " 219520,\n",
       " 225435,\n",
       " 228958,\n",
       " 233442,\n",
       " 235605,\n",
       " 242963,\n",
       " 243225,\n",
       " 244645,\n",
       " 245380,\n",
       " 246377,\n",
       " 249038,\n",
       " 255606,\n",
       " 263950,\n",
       " 265278,\n",
       " 266434,\n",
       " 274967,\n",
       " 283641,\n",
       " 291311,\n",
       " 294855,\n",
       " 299191,\n",
       " 301683,\n",
       " 308356,\n",
       " 308801,\n",
       " 309192,\n",
       " 317083,\n",
       " 317500,\n",
       " 318152,\n",
       " 321573,\n",
       " 322742,\n",
       " 322743,\n",
       " 327547,\n",
       " 327548,\n",
       " 341323,\n",
       " 341343,\n",
       " 347404,\n",
       " 361682,\n",
       " 365373,\n",
       " 366677,\n",
       " 366710,\n",
       " 366711,\n",
       " 369989,\n",
       " 373826,\n",
       " 374675,\n",
       " 375677,\n",
       " 375917,\n",
       " 375955,\n",
       " 378695,\n",
       " 380337,\n",
       " 381246,\n",
       " 381685,\n",
       " 387903,\n",
       " 388536,\n",
       " 390930,\n",
       " 395245,\n",
       " 397554,\n",
       " 398385,\n",
       " 400560,\n",
       " 403576,\n",
       " 404626,\n",
       " 410816,\n",
       " 417721,\n",
       " 420562,\n",
       " 421801]"
      ]
     },
     "execution_count": 39,
     "metadata": {},
     "output_type": "execute_result"
    }
   ],
   "source": [
    "def missing_email(xs):\n",
    "    patronID = list()\n",
    "    a = filter(lambda x: x[\"Provided Email Address\"] == \"false\" and x[\"Notice Preference Definition\"] == \"email\", xs)\n",
    "    patronID = list(map(lambda x: x[\"Id\"], a))\n",
    "    return patronID\n",
    "          \n",
    "#filter(lambda x: x % 2 == 0, range(7))           \n",
    "#map(lambda x: x*2, tmp)\n",
    "missing_email(patrons)\n",
    "\n"
   ]
  },
  {
   "cell_type": "markdown",
   "metadata": {},
   "source": [
    "**T** (10pts) Implement a function that outputs the total amount of checkouts from members originally registered at a given location.\n",
    "\n",
    "```python\n",
    ">>> checkouts(patrons, \"Noe Valley/Sally Brunn\")\n",
    "1355624\n",
    "```"
   ]
  },
  {
   "cell_type": "code",
   "execution_count": 16,
   "metadata": {},
   "outputs": [
    {
     "data": {
      "text/plain": [
       "3280190"
      ]
     },
     "execution_count": 16,
     "metadata": {},
     "output_type": "execute_result"
    }
   ],
   "source": [
    "def checkouts(xs, location):\n",
    "    a = filter(lambda x: x[\"Home Library Definition\"] == location, xs)\n",
    "    b = map(lambda x: x[\"Total Checkouts\"], a)\n",
    "    c = []\n",
    "    for item in b: c.append(int(item)) \n",
    "    d = reduceL(lambda x, y: x+y, c, 0)\n",
    "    #checkout = list(reduceL(lambda x,y: x+y, a, 0))\n",
    "    return d\n",
    "checkouts(patrons, \"Mission\")\n",
    "\n",
    "#group_by(lambda x: \"even\" if x % 2 == 0 else \"odd\", range(10))"
   ]
  },
  {
   "cell_type": "markdown",
   "metadata": {},
   "source": [
    "**T** (15pts) Implement a function that lists the number of renewals per location in a tuple. Example output for part of the dataset:\n",
    "\n",
    "```python\n",
    ">>> number_renewals(patrons)\n",
    "\n",
    "[('Presidio', 431988),\n",
    " ('Mission', 1218976)]\n",
    "```"
   ]
  },
  {
   "cell_type": "code",
   "execution_count": 58,
   "metadata": {},
   "outputs": [
    {
     "data": {
      "text/plain": [
       "[['Main Library', 5174831],\n",
       " ['Mission Bay', 435878],\n",
       " ['Potrero', 342783],\n",
       " ['Sunset', 1448792],\n",
       " ['Merced', 904760],\n",
       " ['Noe Valley/Sally Brunn', 553023],\n",
       " ['Excelsior', 838127],\n",
       " ['Chinatown', 1515050],\n",
       " ['Richmond', 1795785],\n",
       " ['North Beach', 491147],\n",
       " ['Presidio', 431988],\n",
       " ['Mission', 1218976],\n",
       " ['Park', 541037],\n",
       " ['Marina', 460648],\n",
       " ['Parkside', 779591],\n",
       " ['Eureka Valley/Harvey Milk Memorial', 695263],\n",
       " ['Anza', 682381],\n",
       " ['West Portal', 1192880],\n",
       " ['Ingleside', 715858],\n",
       " ['Bernal Heights', 527872],\n",
       " ['Portola', 522796],\n",
       " ['Ortega', 1479485],\n",
       " ['Western Addition', 684442],\n",
       " ['Unknown', 147566],\n",
       " ['Ocean View', 169801],\n",
       " ['Glen Park', 727642],\n",
       " ['Visitacion Valley', 280567],\n",
       " ['Bayview/Linda Brooks-Burton', 150966],\n",
       " ['Golden Gate Valley', 262226],\n",
       " ['Library on Wheels', 38256],\n",
       " [\"Children's Bookmobile\", 42837],\n",
       " ['Branch Bookmobile (Sunset)', 1741],\n",
       " ['Branch Bookmobile (West Portal)', 3956],\n",
       " ['Branch Bookmobile (Excelsior)', 2189],\n",
       " ['Branch Bookmobile (Marina)', 636]]"
      ]
     },
     "execution_count": 58,
     "metadata": {},
     "output_type": "execute_result"
    }
   ],
   "source": [
    "def number_renewals(xs):\n",
    "    grouped = group_by(lambda x: x[\"Home Library Definition\"], xs)\n",
    "\n",
    "    totalRenewal = 0\n",
    "    res = []\n",
    "    for group in grouped.keys():\n",
    "        totalRenewal = reduceL(lambda x, y: x + int(y[\"Total Renewals\"]), grouped[group], 0)\n",
    "        res.append([group, totalRenewal])\n",
    "    return res\n",
    "\n",
    "    \n",
    "number_renewals(patrons)"
   ]
  },
  {
   "cell_type": "code",
   "execution_count": null,
   "metadata": {},
   "outputs": [],
   "source": []
  }
 ],
 "metadata": {
  "kernelspec": {
   "display_name": "Python 3",
   "language": "python",
   "name": "python3"
  },
  "language_info": {
   "codemirror_mode": {
    "name": "ipython",
    "version": 3
   },
   "file_extension": ".py",
   "mimetype": "text/x-python",
   "name": "python",
   "nbconvert_exporter": "python",
   "pygments_lexer": "ipython3",
   "version": "3.8.8"
  }
 },
 "nbformat": 4,
 "nbformat_minor": 2
}
